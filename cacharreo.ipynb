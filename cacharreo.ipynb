{
 "cells": [
  {
   "cell_type": "code",
   "execution_count": 16,
   "metadata": {},
   "outputs": [],
   "source": [
    "def suma(a, b, c):\n",
    "    return a+b+c\n",
    "\n",
    "def resta(a,b, que=False):\n",
    "    return a-b    \n",
    "\n",
    "def gen_exp(funcion, **kwargs):\n",
    "    return funcion(**kwargs)    "
   ]
  },
  {
   "cell_type": "code",
   "execution_count": 11,
   "metadata": {},
   "outputs": [
    {
     "data": {
      "text/plain": [
       "6"
      ]
     },
     "execution_count": 11,
     "metadata": {},
     "output_type": "execute_result"
    }
   ],
   "source": [
    "gen_exp(suma, a=1, b=2, c=3)"
   ]
  },
  {
   "cell_type": "code",
   "execution_count": 13,
   "metadata": {},
   "outputs": [],
   "source": [
    "diccionario = {\"a\" : 1, \"b\" : 2}"
   ]
  },
  {
   "cell_type": "code",
   "execution_count": 17,
   "metadata": {},
   "outputs": [
    {
     "data": {
      "text/plain": [
       "-1"
      ]
     },
     "execution_count": 17,
     "metadata": {},
     "output_type": "execute_result"
    }
   ],
   "source": [
    "resta(que=False, **diccionario)"
   ]
  },
  {
   "cell_type": "code",
   "execution_count": 18,
   "metadata": {},
   "outputs": [],
   "source": [
    "settings = [\n",
    "    {\"n_shots\": 500, \n",
    "    \"n_repeat\": 10, \n",
    "    \"no_particles\": 150, \n",
    "    \"SMC_fun\": \"default\"},\n",
    "    {\n",
    "        \"n_shots\": 500,\n",
    "        \"n_repeat\": 10,\n",
    "        \"no_particles\": 150,\n",
    "        \"SMC_fun\": \"slower\",\n",
    "        \"update_rate\": 0.4,\n",
    "    },\n",
    "    {\"n_shots\": 500, \n",
    "    \"n_repeat\": 10, \n",
    "    \"no_particles\": 500, \n",
    "    \"SMC_fun\": \"default\"},\n",
    "    {\n",
    "        \"n_shots\": 500,\n",
    "        \"n_repeat\": 10,\n",
    "        \"no_particles\": 500,\n",
    "        \"SMC_fun\": \"slower\",\n",
    "        \"update_rate\": 0.4,\n",
    "    },\n",
    "]\n"
   ]
  },
  {
   "cell_type": "code",
   "execution_count": 19,
   "metadata": {},
   "outputs": [],
   "source": [
    "import json"
   ]
  },
  {
   "cell_type": "code",
   "execution_count": 21,
   "metadata": {},
   "outputs": [
    {
     "ename": "TypeError",
     "evalue": "dumps() takes 1 positional argument but 2 were given",
     "output_type": "error",
     "traceback": [
      "\u001b[0;31m---------------------------------------------------------------------------\u001b[0m",
      "\u001b[0;31mTypeError\u001b[0m                                 Traceback (most recent call last)",
      "\u001b[1;32m/home/antonio/dev/simple-QLL/cacharreo.ipynb Cell 7\u001b[0m in \u001b[0;36m<cell line: 1>\u001b[0;34m()\u001b[0m\n\u001b[0;32m----> <a href='vscode-notebook-cell:/home/antonio/dev/simple-QLL/cacharreo.ipynb#W6sZmlsZQ%3D%3D?line=0'>1</a>\u001b[0m json\u001b[39m.\u001b[39;49mdumps(settings, \u001b[39m\"\u001b[39;49m\u001b[39mlista.json\u001b[39;49m\u001b[39m\"\u001b[39;49m)\n",
      "\u001b[0;31mTypeError\u001b[0m: dumps() takes 1 positional argument but 2 were given"
     ]
    }
   ],
   "source": [
    "json.dumps(settings, \"lista.json\")"
   ]
  },
  {
   "cell_type": "code",
   "execution_count": 29,
   "metadata": {},
   "outputs": [],
   "source": [
    "with open(\"mydata.json\", \"w\") as final:\n",
    "    json.dump(settings, final)"
   ]
  },
  {
   "cell_type": "code",
   "execution_count": 31,
   "metadata": {},
   "outputs": [],
   "source": [
    "with open(\"mydata.json\") as final:\n",
    "    a = json.load(final)\n"
   ]
  },
  {
   "cell_type": "code",
   "execution_count": 33,
   "metadata": {},
   "outputs": [
    {
     "data": {
      "text/plain": [
       "{'n_shots': 500, 'n_repeat': 10, 'no_particles': 150, 'SMC_fun': 'default'}"
      ]
     },
     "execution_count": 33,
     "metadata": {},
     "output_type": "execute_result"
    }
   ],
   "source": [
    "a[0]"
   ]
  },
  {
   "cell_type": "code",
   "execution_count": null,
   "metadata": {},
   "outputs": [],
   "source": []
  }
 ],
 "metadata": {
  "kernelspec": {
   "display_name": "Python 3.10.4 ('qinfer')",
   "language": "python",
   "name": "python3"
  },
  "language_info": {
   "codemirror_mode": {
    "name": "ipython",
    "version": 3
   },
   "file_extension": ".py",
   "mimetype": "text/x-python",
   "name": "python",
   "nbconvert_exporter": "python",
   "pygments_lexer": "ipython3",
   "version": "3.10.4"
  },
  "orig_nbformat": 4,
  "vscode": {
   "interpreter": {
    "hash": "e7be0bd88622506fe35bac977978794a21d34eb3b6bd5d6506b9cc4f370666d7"
   }
  }
 },
 "nbformat": 4,
 "nbformat_minor": 2
}
