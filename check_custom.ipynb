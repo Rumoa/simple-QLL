{
 "cells": [
  {
   "cell_type": "code",
   "execution_count": 1,
   "metadata": {},
   "outputs": [],
   "source": [
    "import qutip as qu\n",
    "import numpy as np\n",
    "\n",
    "import jax.numpy as jnp\n",
    "from jax import grad, jit, vmap\n",
    "from jax import random\n",
    "\n",
    "from jax.scipy.linalg import expm\n",
    "\n",
    "import scipy\n",
    "\n",
    "key = random.PRNGKey(0)\n"
   ]
  },
  {
   "cell_type": "code",
   "execution_count": 2,
   "metadata": {},
   "outputs": [],
   "source": [
    "from custom_models import simple_precession_with_noise"
   ]
  },
  {
   "cell_type": "code",
   "execution_count": 3,
   "metadata": {},
   "outputs": [],
   "source": [
    "a = simple_precession_with_noise()"
   ]
  },
  {
   "cell_type": "code",
   "execution_count": 4,
   "metadata": {},
   "outputs": [
    {
     "data": {
      "text/plain": [
       "[DeviceArray([[1, 0],\n",
       "              [0, 0]], dtype=int32),\n",
       " DeviceArray([[0, 0],\n",
       "              [0, 1]], dtype=int32)]"
      ]
     },
     "execution_count": 4,
     "metadata": {},
     "output_type": "execute_result"
    }
   ],
   "source": [
    "a.measurement_projectors"
   ]
  },
  {
   "cell_type": "code",
   "execution_count": 5,
   "metadata": {},
   "outputs": [],
   "source": [
    "omega = 0.3\n",
    "H0 = 2 * np.pi * omega * qu.sigmax()\n",
    "\n",
    "psi0 = qu.basis(2, 0)\n",
    "rho0 = jnp.array(qu.ket2dm(psi0).full())"
   ]
  },
  {
   "cell_type": "code",
   "execution_count": 6,
   "metadata": {},
   "outputs": [],
   "source": [
    "L_h = a.make_evol_super(H0)"
   ]
  },
  {
   "cell_type": "code",
   "execution_count": 7,
   "metadata": {},
   "outputs": [],
   "source": [
    "L_D = a.make_dissipator_super()"
   ]
  },
  {
   "cell_type": "code",
   "execution_count": 8,
   "metadata": {},
   "outputs": [],
   "source": [
    "def jnp_evolve_dm(rho0, L_h, L_D, gamma, t):\n",
    "    rho0_vec = rho0.reshape(-1, 1)\n",
    "    L = L_h + gamma * L_D\n",
    "    rho_t_vec = expm(L*t)@rho0_vec\n",
    "    rho_t = rho_t_vec.reshape(-1, 2)\n",
    "    return rho_t\n"
   ]
  },
  {
   "cell_type": "code",
   "execution_count": 19,
   "metadata": {},
   "outputs": [
    {
     "data": {
      "text/plain": [
       "DeviceArray([[1.+0.j, 0.+0.j],\n",
       "             [0.+0.j, 0.+0.j]], dtype=complex64)"
      ]
     },
     "execution_count": 19,
     "metadata": {},
     "output_type": "execute_result"
    }
   ],
   "source": [
    "rho0"
   ]
  },
  {
   "cell_type": "code",
   "execution_count": 18,
   "metadata": {},
   "outputs": [],
   "source": [
    "rho_t = jnp_evolve_dm(rho0, L_h, L_D, 0.7, 0.1)"
   ]
  },
  {
   "cell_type": "code",
   "execution_count": 21,
   "metadata": {},
   "outputs": [
    {
     "ename": "TypeError",
     "evalue": "unsupported operand type(s) for @: 'function' and 'DeviceArray'",
     "output_type": "error",
     "traceback": [
      "\u001b[0;31m---------------------------------------------------------------------------\u001b[0m",
      "\u001b[0;31mTypeError\u001b[0m                                 Traceback (most recent call last)",
      "\u001b[1;32m/home/antonio/dev/simple-QLL/check_custom.ipynb Cell 11\u001b[0m in \u001b[0;36m<cell line: 1>\u001b[0;34m()\u001b[0m\n\u001b[0;32m----> <a href='vscode-notebook-cell:/home/antonio/dev/simple-QLL/check_custom.ipynb#X13sZmlsZQ%3D%3D?line=0'>1</a>\u001b[0m a\u001b[39m.\u001b[39;49mcompute_likelihood_0(jnp_evolve_dm)\n",
      "File \u001b[0;32m~/dev/simple-QLL/custom_models.py:144\u001b[0m, in \u001b[0;36msimple_precession_with_noise.compute_likelihood_0\u001b[0;34m(self, rho)\u001b[0m\n\u001b[1;32m    143\u001b[0m \u001b[39mdef\u001b[39;00m \u001b[39mcompute_likelihood_0\u001b[39m(\u001b[39mself\u001b[39m, rho):\n\u001b[0;32m--> 144\u001b[0m     \u001b[39mreturn\u001b[39;00m jnp\u001b[39m.\u001b[39mabs(jnp\u001b[39m.\u001b[39mreal(jnp\u001b[39m.\u001b[39mtrace(rho \u001b[39m@\u001b[39;49m \u001b[39mself\u001b[39;49m\u001b[39m.\u001b[39;49mmeasurement_projectors[\u001b[39m0\u001b[39;49m])))\n",
      "\u001b[0;31mTypeError\u001b[0m: unsupported operand type(s) for @: 'function' and 'DeviceArray'"
     ]
    }
   ],
   "source": []
  },
  {
   "cell_type": "code",
   "execution_count": null,
   "metadata": {},
   "outputs": [],
   "source": []
  }
 ],
 "metadata": {
  "kernelspec": {
   "display_name": "Python 3.10.4 ('qinfer')",
   "language": "python",
   "name": "python3"
  },
  "language_info": {
   "codemirror_mode": {
    "name": "ipython",
    "version": 3
   },
   "file_extension": ".py",
   "mimetype": "text/x-python",
   "name": "python",
   "nbconvert_exporter": "python",
   "pygments_lexer": "ipython3",
   "version": "3.10.4"
  },
  "orig_nbformat": 4,
  "vscode": {
   "interpreter": {
    "hash": "e7be0bd88622506fe35bac977978794a21d34eb3b6bd5d6506b9cc4f370666d7"
   }
  }
 },
 "nbformat": 4,
 "nbformat_minor": 2
}
